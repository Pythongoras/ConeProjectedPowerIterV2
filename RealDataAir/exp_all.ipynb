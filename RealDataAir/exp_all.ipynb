{
 "cells": [
  {
   "cell_type": "code",
   "execution_count": 1,
   "metadata": {},
   "outputs": [],
   "source": [
    "import pandas as pd \n",
    "import numpy as np\n",
    "import matplotlib.pyplot as plt"
   ]
  },
  {
   "cell_type": "markdown",
   "metadata": {},
   "source": [
    "## Import Data"
   ]
  },
  {
   "cell_type": "code",
   "execution_count": 2,
   "metadata": {},
   "outputs": [],
   "source": [
    "pollutants = ['co', 'o3', 'pm10', 'pm25', 'so2']"
   ]
  },
  {
   "cell_type": "code",
   "execution_count": 3,
   "metadata": {},
   "outputs": [],
   "source": [
    "ds = {}"
   ]
  },
  {
   "cell_type": "code",
   "execution_count": 4,
   "metadata": {},
   "outputs": [],
   "source": [
    "for specie in pollutants:\n",
    "    ds[specie] = pd.read_csv('/Users/yufei/Documents/2-CMU/PowerIter/Data/AirQuality/{}_15to18.csv'.format(specie))\n",
    "    ds[specie] = ds[specie].set_index('City')"
   ]
  },
  {
   "cell_type": "code",
   "execution_count": 5,
   "metadata": {
    "scrolled": true
   },
   "outputs": [
    {
     "name": "stdout",
     "output_type": "stream",
     "text": [
      "The shape of co data is:  (113, 584)\n",
      "The shape of o3 data is:  (102, 572)\n",
      "The shape of pm10 data is:  (189, 581)\n",
      "The shape of pm25 data is:  (156, 527)\n",
      "The shape of so2 data is:  (114, 584)\n"
     ]
    }
   ],
   "source": [
    "for specie in pollutants:\n",
    "    print(\"The shape of {} data is: \".format(specie), ds[specie].shape)"
   ]
  },
  {
   "cell_type": "markdown",
   "metadata": {},
   "source": [
    "## Visualization"
   ]
  },
  {
   "cell_type": "code",
   "execution_count": 6,
   "metadata": {},
   "outputs": [
    {
     "data": {
      "text/plain": [
       "[<matplotlib.lines.Line2D at 0x10ecbe100>]"
      ]
     },
     "execution_count": 6,
     "metadata": {},
     "output_type": "execute_result"
    },
    {
     "data": {
      "image/png": "[encoded data removed]",
      "text/plain": [
       "<Figure size 432x288 with 1 Axes>"
      ]
     },
     "metadata": {
      "needs_background": "light"
     },
     "output_type": "display_data"
    }
   ],
   "source": [
    "plt.plot(ds['co'].iloc[4,:].values)"
   ]
  },
  {
   "cell_type": "markdown",
   "metadata": {},
   "source": [
    "#### Split the data into train and test part"
   ]
  },
  {
   "cell_type": "code",
   "execution_count": 7,
   "metadata": {},
   "outputs": [],
   "source": [
    "ds_train, ds_test = {}, {}"
   ]
  },
  {
   "cell_type": "code",
   "execution_count": 8,
   "metadata": {},
   "outputs": [
    {
     "name": "stdout",
     "output_type": "stream",
     "text": [
      "The shape of co data is:  (113, 292) (113, 292)\n",
      "The shape of o3 data is:  (102, 286) (102, 286)\n",
      "The shape of pm10 data is:  (189, 290) (189, 290)\n",
      "The shape of pm25 data is:  (156, 263) (156, 263)\n",
      "The shape of so2 data is:  (114, 292) (114, 292)\n"
     ]
    }
   ],
   "source": [
    "for specie in pollutants:\n",
    "    # discard the last observation if the dimension is odd\n",
    "    if ds[specie].shape[1]%2 != 0:\n",
    "        ds[specie] = ds[specie].iloc[:, :-1]\n",
    "    # split\n",
    "    ds_train[specie] = ds[specie].iloc[:, :ds[specie].shape[1]//2]\n",
    "    ds_test[specie] = ds[specie].iloc[:, ds[specie].shape[1]//2:]\n",
    "    print(\"The shape of {} data is: \".format(specie), ds_train[specie].shape, ds_test[specie].shape)"
   ]
  },
  {
   "cell_type": "markdown",
   "metadata": {},
   "source": [
    "## Variance Explained Compute"
   ]
  },
  {
   "cell_type": "markdown",
   "metadata": {},
   "source": [
    "#### CO"
   ]
  },
  {
   "cell_type": "code",
   "execution_count": 20,
   "metadata": {},
   "outputs": [],
   "source": [
    "# Use matlab to compute the eigenvectors, and import them\n",
    "\n",
    "v_ordi = pd.read_csv('/Users/yufei/Documents/2-CMU/PowerIter/Data/AirQuality/v_ordi.txt', header = None).squeeze()\n",
    "\n",
    "v_mnt = pd.read_csv('/Users/yufei/Documents/2-CMU/PowerIter/Data/AirQuality/v_mnt.txt', header = None).squeeze()\n",
    "\n",
    "# cardinality 0.99\n",
    "v_trunc = pd.read_csv('/Users/yufei/Documents/2-CMU/PowerIter/Data/AirQuality/v_trunc.txt', header = None).squeeze()\n",
    "\n",
    "# lambda 10000\n",
    "v_elas = pd.read_csv('/Users/yufei/Documents/2-CMU/PowerIter/Data/AirQuality/v_elas.txt', header = None).squeeze()"
   ]
  },
  {
   "cell_type": "code",
   "execution_count": 21,
   "metadata": {},
   "outputs": [],
   "source": [
    "score_ordi = pd.DataFrame(ds_test['co'].apply(lambda x: np.dot(x, v_ordi), axis = 1))\n",
    "score_mnt = pd.DataFrame(ds_test['co'].apply(lambda x: np.dot(x, v_mnt), axis = 1))\n",
    "score_trunc = pd.DataFrame(ds_test['co'].apply(lambda x: np.dot(x, v_trunc), axis = 1))\n",
    "score_elas = pd.DataFrame(ds_test['co'].apply(lambda x: np.dot(x, v_elas), axis = 1))"
   ]
  },
  {
   "cell_type": "code",
   "execution_count": 22,
   "metadata": {},
   "outputs": [
    {
     "name": "stdout",
     "output_type": "stream",
     "text": [
      "The variance explained by ordinary principal component: 0.5477745422072864\n",
      "The variance explained by monotone principal component: 0.5993558714959029\n",
      "The variance explained by truncated principal component: 0.5452719830761555\n",
      "The variance explained by elassPCA principal component: 0.5472753328118529\n"
     ]
    }
   ],
   "source": [
    "print( \"The variance explained by ordinary principal component:\", np.var(score_ordi.values) / sum(ds_test['co'].cov().values.diagonal()) )\n",
    "print( \"The variance explained by monotone principal component:\", np.var(score_mnt.values) / sum(ds_test['co'].cov().values.diagonal()) )\n",
    "print( \"The variance explained by truncated principal component:\", np.var(score_trunc.values) / sum(ds_test['co'].cov().values.diagonal()) )\n",
    "print( \"The variance explained by elassPCA principal component:\", np.var(score_elas.values) / sum(ds_test['co'].cov().values.diagonal()) )"
   ]
  },
  {
   "cell_type": "markdown",
   "metadata": {},
   "source": [
    "#### Ozone"
   ]
  },
  {
   "cell_type": "code",
   "execution_count": 23,
   "metadata": {},
   "outputs": [],
   "source": [
    "# Use matlab to compute the eigenvectors, and import them\n",
    "\n",
    "v_ordi = pd.read_csv('/Users/yufei/Documents/2-CMU/PowerIter/Data/AirQuality/v_ordi.txt', header = None).squeeze()\n",
    "\n",
    "v_mnt = pd.read_csv('/Users/yufei/Documents/2-CMU/PowerIter/Data/AirQuality/v_mnt.txt', header = None).squeeze()\n",
    "\n",
    "# cardinality 0.99\n",
    "v_trunc = pd.read_csv('/Users/yufei/Documents/2-CMU/PowerIter/Data/AirQuality/v_trunc.txt', header = None).squeeze()\n",
    "\n",
    "# lambda 10000\n",
    "v_elas = pd.read_csv('/Users/yufei/Documents/2-CMU/PowerIter/Data/AirQuality/v_elas.txt', header = None).squeeze()"
   ]
  },
  {
   "cell_type": "code",
   "execution_count": 24,
   "metadata": {},
   "outputs": [],
   "source": [
    "score_ordi = pd.DataFrame(ds_test['o3'].apply(lambda x: np.dot(x, v_ordi), axis = 1))\n",
    "score_mnt = pd.DataFrame(ds_test['o3'].apply(lambda x: np.dot(x, v_mnt), axis = 1))\n",
    "score_trunc = pd.DataFrame(ds_test['o3'].apply(lambda x: np.dot(x, v_trunc), axis = 1))\n",
    "score_elas = pd.DataFrame(ds_test['o3'].apply(lambda x: np.dot(x, v_elas), axis = 1))"
   ]
  },
  {
   "cell_type": "code",
   "execution_count": 25,
   "metadata": {},
   "outputs": [
    {
     "name": "stdout",
     "output_type": "stream",
     "text": [
      "The variance explained by ordinary principal component: 0.33439102979037144\n",
      "The variance explained by monotone principal component: 0.3604573225315739\n",
      "The variance explained by truncated principal component: 0.3321579342331217\n",
      "The variance explained by elassPCA principal component: 0.3343384090358232\n"
     ]
    }
   ],
   "source": [
    "print( \"The variance explained by ordinary principal component:\", np.var(score_ordi.values) / sum(ds_test['o3'].cov().values.diagonal()) )\n",
    "print( \"The variance explained by monotone principal component:\", np.var(score_mnt.values) / sum(ds_test['o3'].cov().values.diagonal()) )\n",
    "print( \"The variance explained by truncated principal component:\", np.var(score_trunc.values) / sum(ds_test['o3'].cov().values.diagonal()) )\n",
    "print( \"The variance explained by elassPCA principal component:\", np.var(score_elas.values) / sum(ds_test['o3'].cov().values.diagonal()) )"
   ]
  },
  {
   "cell_type": "markdown",
   "metadata": {},
   "source": [
    "#### PM10"
   ]
  },
  {
   "cell_type": "code",
   "execution_count": 26,
   "metadata": {},
   "outputs": [],
   "source": [
    "# Use matlab to compute the eigenvectors, and import them\n",
    "\n",
    "v_ordi = pd.read_csv('/Users/yufei/Documents/2-CMU/PowerIter/Data/AirQuality/v_ordi.txt', header = None).squeeze()\n",
    "\n",
    "v_mnt = pd.read_csv('/Users/yufei/Documents/2-CMU/PowerIter/Data/AirQuality/v_mnt.txt', header = None).squeeze()\n",
    "\n",
    "# cardinality 0.99\n",
    "v_trunc = pd.read_csv('/Users/yufei/Documents/2-CMU/PowerIter/Data/AirQuality/v_trunc.txt', header = None).squeeze()\n",
    "\n",
    "# doesn't converge\n",
    "# v_elas = pd.read_csv('/Users/yufei/Documents/2-CMU/PowerIter/Data/AirQuality/v_elas.txt', header = None).squeeze()"
   ]
  },
  {
   "cell_type": "code",
   "execution_count": 27,
   "metadata": {},
   "outputs": [],
   "source": [
    "score_ordi = pd.DataFrame(ds_test['pm10'].apply(lambda x: np.dot(x, v_ordi), axis = 1))\n",
    "score_mnt = pd.DataFrame(ds_test['pm10'].apply(lambda x: np.dot(x, v_mnt), axis = 1))\n",
    "score_trunc = pd.DataFrame(ds_test['pm10'].apply(lambda x: np.dot(x, v_trunc), axis = 1))\n",
    "# score_elas = pd.DataFrame(ds_test['pm10'].apply(lambda x: np.dot(x, v_elas), axis = 1))"
   ]
  },
  {
   "cell_type": "code",
   "execution_count": 28,
   "metadata": {},
   "outputs": [
    {
     "name": "stdout",
     "output_type": "stream",
     "text": [
      "The variance explained by ordinary principal component: 0.46488443418382414\n",
      "The variance explained by monotone principal component: 0.5063530077051451\n",
      "The variance explained by truncated principal component: 0.4602460057026748\n"
     ]
    }
   ],
   "source": [
    "print( \"The variance explained by ordinary principal component:\", np.var(score_ordi.values) / sum(ds_test['pm10'].cov().values.diagonal()) )\n",
    "print( \"The variance explained by monotone principal component:\", np.var(score_mnt.values) / sum(ds_test['pm10'].cov().values.diagonal()) )\n",
    "print( \"The variance explained by truncated principal component:\", np.var(score_trunc.values) / sum(ds_test['pm10'].cov().values.diagonal()) )\n",
    "# print( \"The variance explained by elassPCA principal component:\", np.var(score_elas.values) / sum(ds_test['pm10'].cov().values.diagonal()) )"
   ]
  },
  {
   "cell_type": "markdown",
   "metadata": {},
   "source": [
    "#### PM25"
   ]
  },
  {
   "cell_type": "code",
   "execution_count": 29,
   "metadata": {},
   "outputs": [],
   "source": [
    "# Use matlab to compute the eigenvectors, and import them\n",
    "\n",
    "v_ordi = pd.read_csv('/Users/yufei/Documents/2-CMU/PowerIter/Data/AirQuality/v_ordi.txt', header = None).squeeze()\n",
    "\n",
    "v_mnt = pd.read_csv('/Users/yufei/Documents/2-CMU/PowerIter/Data/AirQuality/v_mnt.txt', header = None).squeeze()\n",
    "\n",
    "# cardinality 0.99\n",
    "v_trunc = pd.read_csv('/Users/yufei/Documents/2-CMU/PowerIter/Data/AirQuality/v_trunc.txt', header = None).squeeze()\n",
    "\n",
    "# doesn't converge\n",
    "# v_elas = pd.read_csv('/Users/yufei/Documents/2-CMU/PowerIter/Data/AirQuality/v_elas.txt', header = None).squeeze()"
   ]
  },
  {
   "cell_type": "code",
   "execution_count": 30,
   "metadata": {},
   "outputs": [],
   "source": [
    "score_ordi = pd.DataFrame(ds_test['pm25'].apply(lambda x: np.dot(x, v_ordi), axis = 1))\n",
    "score_mnt = pd.DataFrame(ds_test['pm25'].apply(lambda x: np.dot(x, v_mnt), axis = 1))\n",
    "score_trunc = pd.DataFrame(ds_test['pm25'].apply(lambda x: np.dot(x, v_trunc), axis = 1))\n",
    "# score_elas = pd.DataFrame(ds_test['pm25'].apply(lambda x: np.dot(x, v_elas), axis = 1))"
   ]
  },
  {
   "cell_type": "code",
   "execution_count": 31,
   "metadata": {},
   "outputs": [
    {
     "name": "stdout",
     "output_type": "stream",
     "text": [
      "The variance explained by ordinary principal component: 0.5661609130928673\n",
      "The variance explained by monotone principal component: 0.5881733454099055\n",
      "The variance explained by truncated principal component: 0.5621879671614705\n"
     ]
    }
   ],
   "source": [
    "print( \"The variance explained by ordinary principal component:\", np.var(score_ordi.values) / sum(ds_test['pm25'].cov().values.diagonal()) )\n",
    "print( \"The variance explained by monotone principal component:\", np.var(score_mnt.values) / sum(ds_test['pm25'].cov().values.diagonal()) )\n",
    "print( \"The variance explained by truncated principal component:\", np.var(score_trunc.values) / sum(ds_test['pm25'].cov().values.diagonal()) )\n",
    "# print( \"The variance explained by elassPCA principal component:\", np.var(score_elas.values) / sum(ds_test['pm25'].cov().values.diagonal()) )"
   ]
  },
  {
   "cell_type": "markdown",
   "metadata": {},
   "source": [
    "#### SO2"
   ]
  },
  {
   "cell_type": "code",
   "execution_count": 32,
   "metadata": {},
   "outputs": [],
   "source": [
    "# Use matlab to compute the eigenvectors, and import them\n",
    "\n",
    "v_ordi = pd.read_csv('/Users/yufei/Documents/2-CMU/PowerIter/Data/AirQuality/v_ordi.txt', header = None).squeeze()\n",
    "\n",
    "v_mnt = pd.read_csv('/Users/yufei/Documents/2-CMU/PowerIter/Data/AirQuality/v_mnt.txt', header = None).squeeze()\n",
    "\n",
    "# cardinality 0.99\n",
    "v_trunc = pd.read_csv('/Users/yufei/Documents/2-CMU/PowerIter/Data/AirQuality/v_trunc.txt', header = None).squeeze()\n",
    "\n",
    "# lambda 10000\n",
    "v_elas = pd.read_csv('/Users/yufei/Documents/2-CMU/PowerIter/Data/AirQuality/v_elas.txt', header = None).squeeze()"
   ]
  },
  {
   "cell_type": "code",
   "execution_count": 33,
   "metadata": {},
   "outputs": [],
   "source": [
    "score_ordi = pd.DataFrame(ds_test['so2'].apply(lambda x: np.dot(x, v_ordi), axis = 1))\n",
    "score_mnt = pd.DataFrame(ds_test['so2'].apply(lambda x: np.dot(x, v_mnt), axis = 1))\n",
    "score_trunc = pd.DataFrame(ds_test['so2'].apply(lambda x: np.dot(x, v_trunc), axis = 1))\n",
    "score_elas = pd.DataFrame(ds_test['so2'].apply(lambda x: np.dot(x, v_elas), axis = 1))"
   ]
  },
  {
   "cell_type": "code",
   "execution_count": 34,
   "metadata": {},
   "outputs": [
    {
     "name": "stdout",
     "output_type": "stream",
     "text": [
      "The variance explained by ordinary principal component: 0.5141246333475262\n",
      "The variance explained by monotone principal component: 0.5864275674939399\n",
      "The variance explained by truncated principal component: 0.5139935342085474\n",
      "The variance explained by elassPCA principal component: 0.514067196650845\n"
     ]
    }
   ],
   "source": [
    "print( \"The variance explained by ordinary principal component:\", np.var(score_ordi.values) / sum(ds_test['so2'].cov().values.diagonal()) )\n",
    "print( \"The variance explained by monotone principal component:\", np.var(score_mnt.values) / sum(ds_test['so2'].cov().values.diagonal()) )\n",
    "print( \"The variance explained by truncated principal component:\", np.var(score_trunc.values) / sum(ds_test['so2'].cov().values.diagonal()) )\n",
    "print( \"The variance explained by elassPCA principal component:\", np.var(score_elas.values) / sum(ds_test['so2'].cov().values.diagonal()) )"
   ]
  },
  {
   "cell_type": "code",
   "execution_count": null,
   "metadata": {},
   "outputs": [],
   "source": []
  },
  {
   "cell_type": "code",
   "execution_count": null,
   "metadata": {},
   "outputs": [],
   "source": []
  }
 ],
 "metadata": {
  "kernelspec": {
   "display_name": "Python 3",
   "language": "python",
   "name": "python3"
  },
  "language_info": {
   "codemirror_mode": {
    "name": "ipython",
    "version": 3
   },
   "file_extension": ".py",
   "mimetype": "text/x-python",
   "name": "python",
   "nbconvert_exporter": "python",
   "pygments_lexer": "ipython3",
   "version": "3.8.6"
  }
 },
 "nbformat": 4,
 "nbformat_minor": 4
}
